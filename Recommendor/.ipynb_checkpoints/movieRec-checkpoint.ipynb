{
 "cells": [
  {
   "cell_type": "code",
   "execution_count": 97,
   "metadata": {},
   "outputs": [],
   "source": [
    "\n",
    "from sklearn.metrics.pairwise import linear_kernel\n",
    "from sklearn.feature_extraction.text import TfidfVectorizer\n",
    "from sklearn import cross_validation as cv\n",
    "import pandas as pd"
   ]
  },
  {
   "cell_type": "code",
   "execution_count": 78,
   "metadata": {},
   "outputs": [
    {
     "data": {
      "text/html": [
       "<div>\n",
       "<style scoped>\n",
       "    .dataframe tbody tr th:only-of-type {\n",
       "        vertical-align: middle;\n",
       "    }\n",
       "\n",
       "    .dataframe tbody tr th {\n",
       "        vertical-align: top;\n",
       "    }\n",
       "\n",
       "    .dataframe thead th {\n",
       "        text-align: right;\n",
       "    }\n",
       "</style>\n",
       "<table border=\"1\" class=\"dataframe\">\n",
       "  <thead>\n",
       "    <tr style=\"text-align: right;\">\n",
       "      <th></th>\n",
       "      <th>movieId</th>\n",
       "      <th>title</th>\n",
       "      <th>genres</th>\n",
       "    </tr>\n",
       "  </thead>\n",
       "  <tbody>\n",
       "    <tr>\n",
       "      <th>0</th>\n",
       "      <td>1</td>\n",
       "      <td>Toy Story (1995)</td>\n",
       "      <td>Adventure|Animation|Children|Comedy|Fantasy</td>\n",
       "    </tr>\n",
       "    <tr>\n",
       "      <th>1</th>\n",
       "      <td>2</td>\n",
       "      <td>Jumanji (1995)</td>\n",
       "      <td>Adventure|Children|Fantasy</td>\n",
       "    </tr>\n",
       "    <tr>\n",
       "      <th>2</th>\n",
       "      <td>3</td>\n",
       "      <td>Grumpier Old Men (1995)</td>\n",
       "      <td>Comedy|Romance</td>\n",
       "    </tr>\n",
       "    <tr>\n",
       "      <th>3</th>\n",
       "      <td>4</td>\n",
       "      <td>Waiting to Exhale (1995)</td>\n",
       "      <td>Comedy|Drama|Romance</td>\n",
       "    </tr>\n",
       "    <tr>\n",
       "      <th>4</th>\n",
       "      <td>5</td>\n",
       "      <td>Father of the Bride Part II (1995)</td>\n",
       "      <td>Comedy</td>\n",
       "    </tr>\n",
       "    <tr>\n",
       "      <th>5</th>\n",
       "      <td>6</td>\n",
       "      <td>Heat (1995)</td>\n",
       "      <td>Action|Crime|Thriller</td>\n",
       "    </tr>\n",
       "    <tr>\n",
       "      <th>6</th>\n",
       "      <td>7</td>\n",
       "      <td>Sabrina (1995)</td>\n",
       "      <td>Comedy|Romance</td>\n",
       "    </tr>\n",
       "    <tr>\n",
       "      <th>7</th>\n",
       "      <td>8</td>\n",
       "      <td>Tom and Huck (1995)</td>\n",
       "      <td>Adventure|Children</td>\n",
       "    </tr>\n",
       "    <tr>\n",
       "      <th>8</th>\n",
       "      <td>9</td>\n",
       "      <td>Sudden Death (1995)</td>\n",
       "      <td>Action</td>\n",
       "    </tr>\n",
       "    <tr>\n",
       "      <th>9</th>\n",
       "      <td>10</td>\n",
       "      <td>GoldenEye (1995)</td>\n",
       "      <td>Action|Adventure|Thriller</td>\n",
       "    </tr>\n",
       "  </tbody>\n",
       "</table>\n",
       "</div>"
      ],
      "text/plain": [
       "   movieId                               title  \\\n",
       "0        1                    Toy Story (1995)   \n",
       "1        2                      Jumanji (1995)   \n",
       "2        3             Grumpier Old Men (1995)   \n",
       "3        4            Waiting to Exhale (1995)   \n",
       "4        5  Father of the Bride Part II (1995)   \n",
       "5        6                         Heat (1995)   \n",
       "6        7                      Sabrina (1995)   \n",
       "7        8                 Tom and Huck (1995)   \n",
       "8        9                 Sudden Death (1995)   \n",
       "9       10                    GoldenEye (1995)   \n",
       "\n",
       "                                        genres  \n",
       "0  Adventure|Animation|Children|Comedy|Fantasy  \n",
       "1                   Adventure|Children|Fantasy  \n",
       "2                               Comedy|Romance  \n",
       "3                         Comedy|Drama|Romance  \n",
       "4                                       Comedy  \n",
       "5                        Action|Crime|Thriller  \n",
       "6                               Comedy|Romance  \n",
       "7                           Adventure|Children  \n",
       "8                                       Action  \n",
       "9                    Action|Adventure|Thriller  "
      ]
     },
     "execution_count": 78,
     "metadata": {},
     "output_type": "execute_result"
    }
   ],
   "source": [
    "#The first recommendation system is based on genres and feature extraction\n",
    "tf = TfidfVectorizer(analyzer = 'word', ngram_range = (1, 2), min_df = 0, stop_words = 'english')\n",
    "movie = pd.read_csv('movies.csv')\n",
    "movie.head(10)"
   ]
  },
  {
   "cell_type": "code",
   "execution_count": 45,
   "metadata": {},
   "outputs": [],
   "source": [
    "tfidf = tf.fit_transform(movie['genres'])\n",
    "sim = linear_kernel(tfidf, tfidf)\n"
   ]
  },
  {
   "cell_type": "code",
   "execution_count": 95,
   "metadata": {},
   "outputs": [
    {
     "data": {
      "text/plain": [
       "RangeIndex(start=0, stop=9742, step=1)"
      ]
     },
     "execution_count": 95,
     "metadata": {},
     "output_type": "execute_result"
    }
   ],
   "source": [
    "movie.index"
   ]
  },
  {
   "cell_type": "markdown",
   "metadata": {},
   "source": [
    "movie.index"
   ]
  },
  {
   "cell_type": "code",
   "execution_count": 89,
   "metadata": {},
   "outputs": [
    {
     "data": {
      "text/plain": [
       "title\n",
       "Toy Story (1995)                                                      0\n",
       "Jumanji (1995)                                                        1\n",
       "Grumpier Old Men (1995)                                               2\n",
       "Waiting to Exhale (1995)                                              3\n",
       "Father of the Bride Part II (1995)                                    4\n",
       "Heat (1995)                                                           5\n",
       "Sabrina (1995)                                                        6\n",
       "Tom and Huck (1995)                                                   7\n",
       "Sudden Death (1995)                                                   8\n",
       "GoldenEye (1995)                                                      9\n",
       "American President, The (1995)                                       10\n",
       "Dracula: Dead and Loving It (1995)                                   11\n",
       "Balto (1995)                                                         12\n",
       "Nixon (1995)                                                         13\n",
       "Cutthroat Island (1995)                                              14\n",
       "Casino (1995)                                                        15\n",
       "Sense and Sensibility (1995)                                         16\n",
       "Four Rooms (1995)                                                    17\n",
       "Ace Ventura: When Nature Calls (1995)                                18\n",
       "Money Train (1995)                                                   19\n",
       "Get Shorty (1995)                                                    20\n",
       "Copycat (1995)                                                       21\n",
       "Assassins (1995)                                                     22\n",
       "Powder (1995)                                                        23\n",
       "Leaving Las Vegas (1995)                                             24\n",
       "Othello (1995)                                                       25\n",
       "Now and Then (1995)                                                  26\n",
       "Persuasion (1995)                                                    27\n",
       "City of Lost Children, The (Cité des enfants perdus, La) (1995)      28\n",
       "Shanghai Triad (Yao a yao yao dao waipo qiao) (1995)                 29\n",
       "                                                                   ... \n",
       "Sorry to Bother You (2018)                                         9712\n",
       "Ant-Man and the Wasp (2018)                                        9713\n",
       "Dogman (2018)                                                      9714\n",
       "Mamma Mia: Here We Go Again! (2018)                                9715\n",
       "Tag (2018)                                                         9716\n",
       "The Man Who Killed Don Quixote (2018)                              9717\n",
       "Boundaries (2018)                                                  9718\n",
       "Spiral (2018)                                                      9719\n",
       "Mission: Impossible - Fallout (2018)                               9720\n",
       "SuperFly (2018)                                                    9721\n",
       "Iron Soldier (2010)                                                9722\n",
       "BlacKkKlansman (2018)                                              9723\n",
       "The Darkest Minds (2018)                                           9724\n",
       "Tilt (2011)                                                        9725\n",
       "Jeff Ross Roasts the Border (2017)                                 9726\n",
       "John From (2015)                                                   9727\n",
       "Liquid Truth (2017)                                                9728\n",
       "Bunny (1998)                                                       9729\n",
       "Hommage à Zgougou (et salut à Sabine Mamou) (2002)                 9730\n",
       "Gintama (2017)                                                     9731\n",
       "Gintama: The Movie (2010)                                          9732\n",
       "anohana: The Flower We Saw That Day - The Movie (2013)             9733\n",
       "Silver Spoon (2014)                                                9734\n",
       "Love Live! The School Idol Movie (2015)                            9735\n",
       "Jon Stewart Has Left the Building (2015)                           9736\n",
       "Black Butler: Book of the Atlantic (2017)                          9737\n",
       "No Game No Life: Zero (2017)                                       9738\n",
       "Flint (2017)                                                       9739\n",
       "Bungo Stray Dogs: Dead Apple (2018)                                9740\n",
       "Andrew Dice Clay: Dice Rules (1991)                                9741\n",
       "Length: 9742, dtype: int64"
      ]
     },
     "execution_count": 89,
     "metadata": {},
     "output_type": "execute_result"
    }
   ],
   "source": [
    "\n",
    "indices = pd.Series(movie.index, index = movie['title'])\n",
    "\n",
    "\n",
    "\n",
    "def giveRecommendation(tile):\n",
    "    idx = indices[tile]\n",
    "    \n",
    "    scores  = list(enumerate(sim[idx]))\n",
    "    scores = sorted(scores, key = lambda x: x[1], reverse = True)\n",
    "    scores = scores[1:10]\n",
    "    movie_indices = [i[0] for i in scores]\n",
    "    return movie['title'].iloc[movie_indices]\n",
    "\n"
   ]
  },
  {
   "cell_type": "code",
   "execution_count": 79,
   "metadata": {},
   "outputs": [
    {
     "data": {
      "text/plain": [
       "22                       Assassins (1995)\n",
       "138     Die Hard: With a Vengeance (1995)\n",
       "156                       Net, The (1995)\n",
       "249           Natural Born Killers (1994)\n",
       "417                 Judgment Night (1993)\n",
       "509                         Batman (1989)\n",
       "793                       Die Hard (1988)\n",
       "1306                     Hard Rain (1998)\n",
       "1315      Replacement Killers, The (1998)\n",
       "Name: title, dtype: object"
      ]
     },
     "execution_count": 79,
     "metadata": {},
     "output_type": "execute_result"
    }
   ],
   "source": [
    "idx = 'Heat (1995)'\n",
    "giveRecommendation(idx)"
   ]
  },
  {
   "cell_type": "code",
   "execution_count": null,
   "metadata": {},
   "outputs": [],
   "source": []
  }
 ],
 "metadata": {
  "kernelspec": {
   "display_name": "Python 3",
   "language": "python",
   "name": "python3"
  },
  "language_info": {
   "codemirror_mode": {
    "name": "ipython",
    "version": 3
   },
   "file_extension": ".py",
   "mimetype": "text/x-python",
   "name": "python",
   "nbconvert_exporter": "python",
   "pygments_lexer": "ipython3",
   "version": "3.6.5"
  }
 },
 "nbformat": 4,
 "nbformat_minor": 1
}
